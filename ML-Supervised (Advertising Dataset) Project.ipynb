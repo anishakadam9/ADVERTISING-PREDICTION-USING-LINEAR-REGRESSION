{
 "cells": [
  {
   "cell_type": "markdown",
   "id": "dadf31c8-5859-4655-877b-f0ec65a391bc",
   "metadata": {},
   "source": [
    "# Build a model which predicts sales based on the money spent on different platforms for marketing using advertising.csv dataset"
   ]
  },
  {
   "cell_type": "markdown",
   "id": "2fe6d548-5ec3-4f46-8a68-c14aa2fad7ad",
   "metadata": {},
   "source": [
    "**About :**\n",
    "\n",
    "**This dataset was uploaded in Kaggle. It contains data on the budget allocated for TV, radio and newspaper advertisements with the resulting sales.**\n",
    "\n",
    "**Target Variable :**\n",
    "\n",
    "**(int) Sales**\n",
    "\n",
    "**Predictors :**\n",
    "\n",
    "**(int) TV - Budget of advertisements in TV**\n",
    "\n",
    "**(int) Radio - Budget of advertisements in radio**\n",
    "\n",
    "**(int) Newspaper - Budget of advertisements in newspaper**"
   ]
  },
  {
   "cell_type": "markdown",
   "id": "cb1917d4-636c-4fda-803e-ac9b1495ed37",
   "metadata": {},
   "source": [
    "# Import Libraries: Start by importing the necessary libraries"
   ]
  },
  {
   "cell_type": "code",
   "execution_count": 1,
   "id": "317c24d3",
   "metadata": {},
   "outputs": [],
   "source": [
    "import pandas as pd\n",
    "import numpy as np\n",
    "import matplotlib.pyplot as plt\n",
    "import seaborn as sns\n",
    "import warnings\n",
    "warnings.filterwarnings(\"ignore\")"
   ]
  },
  {
   "cell_type": "code",
   "execution_count": 2,
   "id": "0ee1d177-071b-4dfc-b493-386225648159",
   "metadata": {},
   "outputs": [
    {
     "data": {
      "text/plain": [
       "'C:\\\\Users\\\\Anisha Kadam\\\\Downloads'"
      ]
     },
     "execution_count": 2,
     "metadata": {},
     "output_type": "execute_result"
    }
   ],
   "source": [
    "import os\n",
    "os.getcwd()"
   ]
  },
  {
   "cell_type": "markdown",
   "id": "8c9c5452-04c9-4b3b-9a1e-479182b21f91",
   "metadata": {},
   "source": [
    "# Load and Explore Data: Load the dataset and understand its structure."
   ]
  },
  {
   "cell_type": "code",
   "execution_count": 3,
   "id": "6cb93796",
   "metadata": {},
   "outputs": [
    {
     "data": {
      "text/html": [
       "<div>\n",
       "<style scoped>\n",
       "    .dataframe tbody tr th:only-of-type {\n",
       "        vertical-align: middle;\n",
       "    }\n",
       "\n",
       "    .dataframe tbody tr th {\n",
       "        vertical-align: top;\n",
       "    }\n",
       "\n",
       "    .dataframe thead th {\n",
       "        text-align: right;\n",
       "    }\n",
       "</style>\n",
       "<table border=\"1\" class=\"dataframe\">\n",
       "  <thead>\n",
       "    <tr style=\"text-align: right;\">\n",
       "      <th></th>\n",
       "      <th>Unnamed: 0</th>\n",
       "      <th>TV</th>\n",
       "      <th>radio</th>\n",
       "      <th>newspaper</th>\n",
       "      <th>sales</th>\n",
       "    </tr>\n",
       "  </thead>\n",
       "  <tbody>\n",
       "    <tr>\n",
       "      <th>0</th>\n",
       "      <td>1</td>\n",
       "      <td>230.1</td>\n",
       "      <td>37.8</td>\n",
       "      <td>69.2</td>\n",
       "      <td>22.1</td>\n",
       "    </tr>\n",
       "    <tr>\n",
       "      <th>1</th>\n",
       "      <td>2</td>\n",
       "      <td>44.5</td>\n",
       "      <td>39.3</td>\n",
       "      <td>45.1</td>\n",
       "      <td>10.4</td>\n",
       "    </tr>\n",
       "    <tr>\n",
       "      <th>2</th>\n",
       "      <td>3</td>\n",
       "      <td>17.2</td>\n",
       "      <td>45.9</td>\n",
       "      <td>69.3</td>\n",
       "      <td>9.3</td>\n",
       "    </tr>\n",
       "    <tr>\n",
       "      <th>3</th>\n",
       "      <td>4</td>\n",
       "      <td>151.5</td>\n",
       "      <td>41.3</td>\n",
       "      <td>58.5</td>\n",
       "      <td>18.5</td>\n",
       "    </tr>\n",
       "    <tr>\n",
       "      <th>4</th>\n",
       "      <td>5</td>\n",
       "      <td>180.8</td>\n",
       "      <td>10.8</td>\n",
       "      <td>58.4</td>\n",
       "      <td>12.9</td>\n",
       "    </tr>\n",
       "  </tbody>\n",
       "</table>\n",
       "</div>"
      ],
      "text/plain": [
       "   Unnamed: 0     TV  radio  newspaper  sales\n",
       "0           1  230.1   37.8       69.2   22.1\n",
       "1           2   44.5   39.3       45.1   10.4\n",
       "2           3   17.2   45.9       69.3    9.3\n",
       "3           4  151.5   41.3       58.5   18.5\n",
       "4           5  180.8   10.8       58.4   12.9"
      ]
     },
     "execution_count": 3,
     "metadata": {},
     "output_type": "execute_result"
    }
   ],
   "source": [
    "# To load dataset.\n",
    "\n",
    "df= pd.read_csv(\"advertising.csv\")\n",
    "df.head()"
   ]
  },
  {
   "cell_type": "code",
   "execution_count": 4,
   "id": "b63db375",
   "metadata": {},
   "outputs": [
    {
     "data": {
      "text/plain": [
       "(200, 5)"
      ]
     },
     "execution_count": 4,
     "metadata": {},
     "output_type": "execute_result"
    }
   ],
   "source": [
    "# To show no. of rows and columns.\n",
    "\n",
    "df.shape"
   ]
  },
  {
   "cell_type": "code",
   "execution_count": 5,
   "id": "611f255e",
   "metadata": {},
   "outputs": [],
   "source": [
    "# To remove unwanted column from given dataset permanently.\n",
    "\n",
    "df.drop(\"Unnamed: 0\", axis= 1, inplace= True)"
   ]
  },
  {
   "cell_type": "code",
   "execution_count": 6,
   "id": "34e9cff2",
   "metadata": {},
   "outputs": [
    {
     "data": {
      "text/html": [
       "<div>\n",
       "<style scoped>\n",
       "    .dataframe tbody tr th:only-of-type {\n",
       "        vertical-align: middle;\n",
       "    }\n",
       "\n",
       "    .dataframe tbody tr th {\n",
       "        vertical-align: top;\n",
       "    }\n",
       "\n",
       "    .dataframe thead th {\n",
       "        text-align: right;\n",
       "    }\n",
       "</style>\n",
       "<table border=\"1\" class=\"dataframe\">\n",
       "  <thead>\n",
       "    <tr style=\"text-align: right;\">\n",
       "      <th></th>\n",
       "      <th>TV</th>\n",
       "      <th>radio</th>\n",
       "      <th>newspaper</th>\n",
       "      <th>sales</th>\n",
       "    </tr>\n",
       "  </thead>\n",
       "  <tbody>\n",
       "    <tr>\n",
       "      <th>0</th>\n",
       "      <td>230.1</td>\n",
       "      <td>37.8</td>\n",
       "      <td>69.2</td>\n",
       "      <td>22.1</td>\n",
       "    </tr>\n",
       "    <tr>\n",
       "      <th>1</th>\n",
       "      <td>44.5</td>\n",
       "      <td>39.3</td>\n",
       "      <td>45.1</td>\n",
       "      <td>10.4</td>\n",
       "    </tr>\n",
       "    <tr>\n",
       "      <th>2</th>\n",
       "      <td>17.2</td>\n",
       "      <td>45.9</td>\n",
       "      <td>69.3</td>\n",
       "      <td>9.3</td>\n",
       "    </tr>\n",
       "    <tr>\n",
       "      <th>3</th>\n",
       "      <td>151.5</td>\n",
       "      <td>41.3</td>\n",
       "      <td>58.5</td>\n",
       "      <td>18.5</td>\n",
       "    </tr>\n",
       "    <tr>\n",
       "      <th>4</th>\n",
       "      <td>180.8</td>\n",
       "      <td>10.8</td>\n",
       "      <td>58.4</td>\n",
       "      <td>12.9</td>\n",
       "    </tr>\n",
       "  </tbody>\n",
       "</table>\n",
       "</div>"
      ],
      "text/plain": [
       "      TV  radio  newspaper  sales\n",
       "0  230.1   37.8       69.2   22.1\n",
       "1   44.5   39.3       45.1   10.4\n",
       "2   17.2   45.9       69.3    9.3\n",
       "3  151.5   41.3       58.5   18.5\n",
       "4  180.8   10.8       58.4   12.9"
      ]
     },
     "execution_count": 6,
     "metadata": {},
     "output_type": "execute_result"
    }
   ],
   "source": [
    "df.head()"
   ]
  },
  {
   "cell_type": "code",
   "execution_count": 7,
   "id": "f73cce7b",
   "metadata": {},
   "outputs": [
    {
     "data": {
      "text/plain": [
       "TV           0\n",
       "radio        0\n",
       "newspaper    0\n",
       "sales        0\n",
       "dtype: int64"
      ]
     },
     "execution_count": 7,
     "metadata": {},
     "output_type": "execute_result"
    }
   ],
   "source": [
    "# here given dataset is type of supervised learning algorithm because this dataset\n",
    "# is labelled means output variable is present and it is the example of regression why?\n",
    "# because output variable sales is a contineous numeric value.\n",
    "\n",
    "# Apply EDA in this dataset means cleaning process.\n",
    "# 1) To check null values.\n",
    "\n",
    "df.isnull().sum()"
   ]
  },
  {
   "cell_type": "code",
   "execution_count": 8,
   "id": "62583e2a",
   "metadata": {},
   "outputs": [
    {
     "data": {
      "text/plain": [
       "TV           float64\n",
       "radio        float64\n",
       "newspaper    float64\n",
       "sales        float64\n",
       "dtype: object"
      ]
     },
     "execution_count": 8,
     "metadata": {},
     "output_type": "execute_result"
    }
   ],
   "source": [
    "# To check datatypes of each columns.\n",
    "df.dtypes"
   ]
  },
  {
   "cell_type": "code",
   "execution_count": 9,
   "id": "8017e348",
   "metadata": {},
   "outputs": [
    {
     "data": {
      "image/png": "[encoded data removed]",
      "text/plain": [
       "<Figure size 640x480 with 2 Axes>"
      ]
     },
     "metadata": {},
     "output_type": "display_data"
    }
   ],
   "source": [
    "# Visualize null values\n",
    "\n",
    "sns.heatmap(df.isnull())\n",
    "plt.show()"
   ]
  },
  {
   "cell_type": "code",
   "execution_count": 10,
   "id": "3aee3666",
   "metadata": {},
   "outputs": [
    {
     "data": {
      "text/plain": [
       "0"
      ]
     },
     "execution_count": 10,
     "metadata": {},
     "output_type": "execute_result"
    }
   ],
   "source": [
    "# Check duplicate rows\n",
    "\n",
    "df.duplicated().sum()"
   ]
  },
  {
   "cell_type": "code",
   "execution_count": 11,
   "id": "34b1d254",
   "metadata": {},
   "outputs": [
    {
     "data": {
      "text/html": [
       "<div>\n",
       "<style scoped>\n",
       "    .dataframe tbody tr th:only-of-type {\n",
       "        vertical-align: middle;\n",
       "    }\n",
       "\n",
       "    .dataframe tbody tr th {\n",
       "        vertical-align: top;\n",
       "    }\n",
       "\n",
       "    .dataframe thead th {\n",
       "        text-align: right;\n",
       "    }\n",
       "</style>\n",
       "<table border=\"1\" class=\"dataframe\">\n",
       "  <thead>\n",
       "    <tr style=\"text-align: right;\">\n",
       "      <th></th>\n",
       "      <th>TV</th>\n",
       "      <th>radio</th>\n",
       "      <th>newspaper</th>\n",
       "      <th>sales</th>\n",
       "    </tr>\n",
       "  </thead>\n",
       "  <tbody>\n",
       "    <tr>\n",
       "      <th>TV</th>\n",
       "      <td>1.000000</td>\n",
       "      <td>0.054809</td>\n",
       "      <td>0.056648</td>\n",
       "      <td>0.782224</td>\n",
       "    </tr>\n",
       "    <tr>\n",
       "      <th>radio</th>\n",
       "      <td>0.054809</td>\n",
       "      <td>1.000000</td>\n",
       "      <td>0.354104</td>\n",
       "      <td>0.576223</td>\n",
       "    </tr>\n",
       "    <tr>\n",
       "      <th>newspaper</th>\n",
       "      <td>0.056648</td>\n",
       "      <td>0.354104</td>\n",
       "      <td>1.000000</td>\n",
       "      <td>0.228299</td>\n",
       "    </tr>\n",
       "    <tr>\n",
       "      <th>sales</th>\n",
       "      <td>0.782224</td>\n",
       "      <td>0.576223</td>\n",
       "      <td>0.228299</td>\n",
       "      <td>1.000000</td>\n",
       "    </tr>\n",
       "  </tbody>\n",
       "</table>\n",
       "</div>"
      ],
      "text/plain": [
       "                 TV     radio  newspaper     sales\n",
       "TV         1.000000  0.054809   0.056648  0.782224\n",
       "radio      0.054809  1.000000   0.354104  0.576223\n",
       "newspaper  0.056648  0.354104   1.000000  0.228299\n",
       "sales      0.782224  0.576223   0.228299  1.000000"
      ]
     },
     "execution_count": 11,
     "metadata": {},
     "output_type": "execute_result"
    }
   ],
   "source": [
    "# use inbuilt method corr(): It is used to find the value of correlation between\n",
    "# input and output.\n",
    "\n",
    "df.corr()"
   ]
  },
  {
   "cell_type": "code",
   "execution_count": 12,
   "id": "20f9bd03",
   "metadata": {},
   "outputs": [
    {
     "data": {
      "image/png": "[encoded data removed]",
      "text/plain": [
       "<Figure size 640x480 with 2 Axes>"
      ]
     },
     "metadata": {},
     "output_type": "display_data"
    }
   ],
   "source": [
    "# To Visualize correlation values, use heatmap() visualization.\n",
    "\n",
    "sns.heatmap(df.corr(), annot= True)\n",
    "# annot means annotation = True by default False\n",
    "#if annot= True means to show value of correlation in graph\n",
    "plt.show()"
   ]
  },
  {
   "cell_type": "markdown",
   "id": "3bacd15e-deed-421b-a505-ccdd5e5a22c3",
   "metadata": {},
   "source": [
    "We Clearly understood from this graph, good correlation of TV, Radio with sales\n",
    " but newspaper is bad correlated with sales.\n",
    "\n",
    " Means inputs TV and Radio both are important to predict the output sales\n",
    " but input newspaper is not important to predict output sales."
   ]
  },
  {
   "cell_type": "markdown",
   "id": "ec2f0845-4b2b-4e45-b604-40032bdae5f8",
   "metadata": {},
   "source": [
    "# Separting the features and target"
   ]
  },
  {
   "cell_type": "code",
   "execution_count": 13,
   "id": "d9abe47c",
   "metadata": {},
   "outputs": [],
   "source": [
    "# Select input and output from given dataset.\n",
    "\n",
    "x= df[[\"TV\", \"radio\"]] # select input: 2D\n",
    "y= df[\"sales\"] # Output (always 1D means only 1 column)"
   ]
  },
  {
   "cell_type": "code",
   "execution_count": 14,
   "id": "d66c1d33",
   "metadata": {},
   "outputs": [
    {
     "data": {
      "text/plain": [
       "(200, 2)"
      ]
     },
     "execution_count": 14,
     "metadata": {},
     "output_type": "execute_result"
    }
   ],
   "source": [
    "x.shape"
   ]
  },
  {
   "cell_type": "code",
   "execution_count": 15,
   "id": "3cc46407",
   "metadata": {},
   "outputs": [
    {
     "data": {
      "text/html": [
       "<div>\n",
       "<style scoped>\n",
       "    .dataframe tbody tr th:only-of-type {\n",
       "        vertical-align: middle;\n",
       "    }\n",
       "\n",
       "    .dataframe tbody tr th {\n",
       "        vertical-align: top;\n",
       "    }\n",
       "\n",
       "    .dataframe thead th {\n",
       "        text-align: right;\n",
       "    }\n",
       "</style>\n",
       "<table border=\"1\" class=\"dataframe\">\n",
       "  <thead>\n",
       "    <tr style=\"text-align: right;\">\n",
       "      <th></th>\n",
       "      <th>TV</th>\n",
       "      <th>radio</th>\n",
       "    </tr>\n",
       "  </thead>\n",
       "  <tbody>\n",
       "    <tr>\n",
       "      <th>0</th>\n",
       "      <td>230.1</td>\n",
       "      <td>37.8</td>\n",
       "    </tr>\n",
       "    <tr>\n",
       "      <th>1</th>\n",
       "      <td>44.5</td>\n",
       "      <td>39.3</td>\n",
       "    </tr>\n",
       "    <tr>\n",
       "      <th>2</th>\n",
       "      <td>17.2</td>\n",
       "      <td>45.9</td>\n",
       "    </tr>\n",
       "    <tr>\n",
       "      <th>3</th>\n",
       "      <td>151.5</td>\n",
       "      <td>41.3</td>\n",
       "    </tr>\n",
       "    <tr>\n",
       "      <th>4</th>\n",
       "      <td>180.8</td>\n",
       "      <td>10.8</td>\n",
       "    </tr>\n",
       "  </tbody>\n",
       "</table>\n",
       "</div>"
      ],
      "text/plain": [
       "      TV  radio\n",
       "0  230.1   37.8\n",
       "1   44.5   39.3\n",
       "2   17.2   45.9\n",
       "3  151.5   41.3\n",
       "4  180.8   10.8"
      ]
     },
     "execution_count": 15,
     "metadata": {},
     "output_type": "execute_result"
    }
   ],
   "source": [
    "x.head()"
   ]
  },
  {
   "cell_type": "code",
   "execution_count": 16,
   "id": "fd932f27",
   "metadata": {},
   "outputs": [
    {
     "data": {
      "text/plain": [
       "(200,)"
      ]
     },
     "execution_count": 16,
     "metadata": {},
     "output_type": "execute_result"
    }
   ],
   "source": [
    "y.shape"
   ]
  },
  {
   "cell_type": "code",
   "execution_count": 17,
   "id": "b2402b57",
   "metadata": {},
   "outputs": [
    {
     "data": {
      "text/plain": [
       "0    22.1\n",
       "1    10.4\n",
       "2     9.3\n",
       "3    18.5\n",
       "4    12.9\n",
       "Name: sales, dtype: float64"
      ]
     },
     "execution_count": 17,
     "metadata": {},
     "output_type": "execute_result"
    }
   ],
   "source": [
    "y.head()"
   ]
  },
  {
   "cell_type": "markdown",
   "id": "6aefe5af-5d2f-452f-8ed8-cf54cb2da6f8",
   "metadata": {},
   "source": [
    "# Visualizing input and output features"
   ]
  },
  {
   "cell_type": "code",
   "execution_count": 18,
   "id": "5ffce49d",
   "metadata": {},
   "outputs": [
    {
     "data": {
      "image/png": "[encoded data removed]",
      "text/plain": [
       "<Figure size 640x480 with 1 Axes>"
      ]
     },
     "metadata": {},
     "output_type": "display_data"
    }
   ],
   "source": [
    "# Visualize scatterplot between input TV and output sales.\n",
    "\n",
    "sns.scatterplot(data = df, x = \"TV\", y = \"sales\")\n",
    "\n",
    "plt.show()"
   ]
  },
  {
   "cell_type": "code",
   "execution_count": 19,
   "id": "0a1034eb",
   "metadata": {},
   "outputs": [
    {
     "data": {
      "image/png": "[encoded data removed]",
      "text/plain": [
       "<Figure size 640x480 with 1 Axes>"
      ]
     },
     "metadata": {},
     "output_type": "display_data"
    }
   ],
   "source": [
    "# Visualize scatterplot between input radio and output sales.\n",
    "\n",
    "sns.scatterplot(data = df, x = \"radio\", y = \"sales\")\n",
    "\n",
    "plt.show()"
   ]
  },
  {
   "cell_type": "code",
   "execution_count": 20,
   "id": "8dc5eecc",
   "metadata": {},
   "outputs": [
    {
     "data": {
      "image/png": "[encoded data removed]",
      "text/plain": [
       "<Figure size 640x480 with 1 Axes>"
      ]
     },
     "metadata": {},
     "output_type": "display_data"
    }
   ],
   "source": [
    "# Visualize scatterplot between input newspaper and output sales.\n",
    "\n",
    "sns.scatterplot(data = df, x = \"newspaper\", y = \"sales\")\n",
    "\n",
    "plt.show()"
   ]
  },
  {
   "cell_type": "code",
   "execution_count": 21,
   "id": "103ae2bb",
   "metadata": {},
   "outputs": [
    {
     "data": {
      "image/png": "[encoded data removed]",
      "text/plain": [
       "<Figure size 1000x1000 with 3 Axes>"
      ]
     },
     "metadata": {},
     "output_type": "display_data"
    }
   ],
   "source": [
    "# subplot by using for loop.\n",
    "# subplot() : method provides a way to plot multiple plots on a single figure.\n",
    "\n",
    "column = [\"TV\", \"radio\", \"newspaper\"]\n",
    "plt.figure(figsize = (10,10))\n",
    "\n",
    "for i, v in enumerate(column):\n",
    "    plt.subplot(2,2,i+1) # plt.subplot(no. of rows, no of cols, index)\n",
    "    sns.scatterplot(data = df, x = v, y = \"sales\")"
   ]
  },
  {
   "cell_type": "markdown",
   "id": "c2e4becf-45c5-427f-9dfa-8acf470c7ca7",
   "metadata": {},
   "source": [
    "# Splitting the data into Training and Testing"
   ]
  },
  {
   "cell_type": "code",
   "execution_count": 22,
   "id": "08aade09",
   "metadata": {},
   "outputs": [],
   "source": [
    "# train test split\n",
    "\n",
    "from sklearn.model_selection import train_test_split"
   ]
  },
  {
   "cell_type": "code",
   "execution_count": 23,
   "id": "f45aa9e8-4601-43ad-8658-935ff5f813b9",
   "metadata": {},
   "outputs": [],
   "source": [
    "# 70% of data is for training \n",
    "# 30% of data is for testing\n",
    "\n",
    "x_train,x_test,y_train,y_test=train_test_split(x,y,test_size=0.3,random_state=1)"
   ]
  },
  {
   "cell_type": "code",
   "execution_count": 24,
   "id": "ee992605",
   "metadata": {},
   "outputs": [
    {
     "data": {
      "text/plain": [
       "((140, 2), (60, 2))"
      ]
     },
     "execution_count": 24,
     "metadata": {},
     "output_type": "execute_result"
    }
   ],
   "source": [
    "x_train.shape, x_test.shape"
   ]
  },
  {
   "cell_type": "code",
   "execution_count": 25,
   "id": "662b0708",
   "metadata": {},
   "outputs": [
    {
     "data": {
      "text/plain": [
       "((140,), (60,))"
      ]
     },
     "execution_count": 25,
     "metadata": {},
     "output_type": "execute_result"
    }
   ],
   "source": [
    "y_train.shape, y_test.shape"
   ]
  },
  {
   "cell_type": "code",
   "execution_count": 26,
   "id": "11862f2c",
   "metadata": {},
   "outputs": [
    {
     "data": {
      "text/html": [
       "<div>\n",
       "<style scoped>\n",
       "    .dataframe tbody tr th:only-of-type {\n",
       "        vertical-align: middle;\n",
       "    }\n",
       "\n",
       "    .dataframe tbody tr th {\n",
       "        vertical-align: top;\n",
       "    }\n",
       "\n",
       "    .dataframe thead th {\n",
       "        text-align: right;\n",
       "    }\n",
       "</style>\n",
       "<table border=\"1\" class=\"dataframe\">\n",
       "  <thead>\n",
       "    <tr style=\"text-align: right;\">\n",
       "      <th></th>\n",
       "      <th>TV</th>\n",
       "      <th>radio</th>\n",
       "    </tr>\n",
       "  </thead>\n",
       "  <tbody>\n",
       "    <tr>\n",
       "      <th>116</th>\n",
       "      <td>139.2</td>\n",
       "      <td>14.3</td>\n",
       "    </tr>\n",
       "    <tr>\n",
       "      <th>67</th>\n",
       "      <td>139.3</td>\n",
       "      <td>14.5</td>\n",
       "    </tr>\n",
       "    <tr>\n",
       "      <th>78</th>\n",
       "      <td>5.4</td>\n",
       "      <td>29.9</td>\n",
       "    </tr>\n",
       "    <tr>\n",
       "      <th>42</th>\n",
       "      <td>293.6</td>\n",
       "      <td>27.7</td>\n",
       "    </tr>\n",
       "    <tr>\n",
       "      <th>17</th>\n",
       "      <td>281.4</td>\n",
       "      <td>39.6</td>\n",
       "    </tr>\n",
       "    <tr>\n",
       "      <th>...</th>\n",
       "      <td>...</td>\n",
       "      <td>...</td>\n",
       "    </tr>\n",
       "    <tr>\n",
       "      <th>133</th>\n",
       "      <td>219.8</td>\n",
       "      <td>33.5</td>\n",
       "    </tr>\n",
       "    <tr>\n",
       "      <th>137</th>\n",
       "      <td>273.7</td>\n",
       "      <td>28.9</td>\n",
       "    </tr>\n",
       "    <tr>\n",
       "      <th>72</th>\n",
       "      <td>26.8</td>\n",
       "      <td>33.0</td>\n",
       "    </tr>\n",
       "    <tr>\n",
       "      <th>140</th>\n",
       "      <td>73.4</td>\n",
       "      <td>17.0</td>\n",
       "    </tr>\n",
       "    <tr>\n",
       "      <th>37</th>\n",
       "      <td>74.7</td>\n",
       "      <td>49.4</td>\n",
       "    </tr>\n",
       "  </tbody>\n",
       "</table>\n",
       "<p>140 rows × 2 columns</p>\n",
       "</div>"
      ],
      "text/plain": [
       "        TV  radio\n",
       "116  139.2   14.3\n",
       "67   139.3   14.5\n",
       "78     5.4   29.9\n",
       "42   293.6   27.7\n",
       "17   281.4   39.6\n",
       "..     ...    ...\n",
       "133  219.8   33.5\n",
       "137  273.7   28.9\n",
       "72    26.8   33.0\n",
       "140   73.4   17.0\n",
       "37    74.7   49.4\n",
       "\n",
       "[140 rows x 2 columns]"
      ]
     },
     "execution_count": 26,
     "metadata": {},
     "output_type": "execute_result"
    }
   ],
   "source": [
    "x_train"
   ]
  },
  {
   "cell_type": "code",
   "execution_count": 27,
   "id": "2b93ca7d",
   "metadata": {},
   "outputs": [
    {
     "data": {
      "text/plain": [
       "116    12.2\n",
       "67     13.4\n",
       "78      5.3\n",
       "42     20.7\n",
       "17     24.4\n",
       "       ... \n",
       "133    19.6\n",
       "137    20.8\n",
       "72      8.8\n",
       "140    10.9\n",
       "37     14.7\n",
       "Name: sales, Length: 140, dtype: float64"
      ]
     },
     "execution_count": 27,
     "metadata": {},
     "output_type": "execute_result"
    }
   ],
   "source": [
    "y_train"
   ]
  },
  {
   "cell_type": "markdown",
   "id": "93ee2a94-08b1-460e-81d7-12fba8e15208",
   "metadata": {},
   "source": [
    "# Features Scaling"
   ]
  },
  {
   "cell_type": "code",
   "execution_count": 28,
   "id": "b9023620",
   "metadata": {},
   "outputs": [],
   "source": [
    "# Applying Feature Scaling on input x_train and x_test\n",
    "# Apply Standard Scaler\n",
    "\n",
    "from sklearn.preprocessing import StandardScaler"
   ]
  },
  {
   "cell_type": "code",
   "execution_count": 29,
   "id": "7f73e179-b8b7-41d7-ac91-1fb4cc9bc479",
   "metadata": {},
   "outputs": [],
   "source": [
    "#create object of standard saling\n",
    "ss=StandardScaler()"
   ]
  },
  {
   "cell_type": "code",
   "execution_count": 30,
   "id": "5ef6ebc7",
   "metadata": {},
   "outputs": [],
   "source": [
    "# apply scaling on training input x_train\n",
    "x_train = ss.fit_transform(x_train)\n",
    "\n",
    "# apply scaling on testing input x_test\n",
    "x_test = ss.transform(x_test)\n",
    "\n",
    "# fit_transform() and transform() both are inbuilt method of StandardScaler."
   ]
  },
  {
   "cell_type": "code",
   "execution_count": 31,
   "id": "7419b9a8",
   "metadata": {},
   "outputs": [
    {
     "data": {
      "text/plain": [
       "(numpy.ndarray, numpy.ndarray)"
      ]
     },
     "execution_count": 31,
     "metadata": {},
     "output_type": "execute_result"
    }
   ],
   "source": [
    "type(x_train), type(x_test)"
   ]
  },
  {
   "cell_type": "code",
   "execution_count": 32,
   "id": "26344ce0",
   "metadata": {},
   "outputs": [
    {
     "data": {
      "text/plain": [
       "array([[-0.04063534, -0.58562079],\n",
       "       [-0.03948046, -0.57246816],\n",
       "       [-1.58586722,  0.44028424],\n",
       "       [ 1.74250219,  0.29560533],\n",
       "       [ 1.6016066 ,  1.07818673],\n",
       "       [-1.54775611,  1.68978396],\n",
       "       [-0.72201561, -1.52603374],\n",
       "       [-0.05564881,  1.52537611],\n",
       "       [ 0.97566066, -0.48697608],\n",
       "       [-1.28444306,  0.09173958],\n",
       "       [ 1.3856437 ,  0.36794479],\n",
       "       [ 0.81744185,  1.30178142],\n",
       "       [ 1.67320928,  1.30178142],\n",
       "       [-1.51310966,  0.90062625],\n",
       "       [-1.44150699,  0.94666045],\n",
       "       [ 0.77240146, -0.17131299],\n",
       "       [-1.37336896,  0.78225259],\n",
       "       [-0.76590112, -1.47342322],\n",
       "       [ 1.24936765,  0.87432099],\n",
       "       [-0.01638282,  0.2364185 ],\n",
       "       [ 0.52063722, -0.13843142],\n",
       "       [-0.09722455, -1.20379434],\n",
       "       [ 1.12117577, -1.25640485],\n",
       "       [ 0.93870444, -1.36820219],\n",
       "       [-0.77629506, -0.81579179],\n",
       "       [-0.52222106, -1.02623385],\n",
       "       [-0.77860482, -0.19104193],\n",
       "       [-1.55122076,  0.26272376],\n",
       "       [ 0.55874832,  0.36136847],\n",
       "       [ 0.37396723, -0.04636302],\n",
       "       [-0.08683061,  1.21628933],\n",
       "       [ 1.43414874,  1.35439193],\n",
       "       [-0.65849711,  0.82828679],\n",
       "       [-0.0371707 , -1.38793114],\n",
       "       [ 0.33008172,  1.08476305],\n",
       "       [ 0.5217921 , -0.39490767],\n",
       "       [-1.20706598, -1.28271011],\n",
       "       [ 0.39590999, -0.91443651],\n",
       "       [-1.20937574,  1.12422093],\n",
       "       [ 0.29659015, -1.05911542],\n",
       "       [-1.45305581,  1.34781562],\n",
       "       [ 1.0934586 , -1.19064171],\n",
       "       [-1.31793463, -1.42738902],\n",
       "       [ 0.63381564,  0.0062475 ],\n",
       "       [-1.44959116,  1.49249453],\n",
       "       [ 0.65113887,  0.48631844],\n",
       "       [ 0.58300084, -0.3159919 ],\n",
       "       [ 1.59352243, -0.61192605],\n",
       "       [-0.98417379,  0.63099736],\n",
       "       [ 0.38089652, -0.51328133],\n",
       "       [ 1.00915223,  0.95981307],\n",
       "       [-1.60088068, -0.76318128],\n",
       "       [-0.25659824,  0.34821584],\n",
       "       [-0.85136238, -0.91443651],\n",
       "       [ 0.6488291 ,  1.72266554],\n",
       "       [ 0.74006477, -1.18406539],\n",
       "       [-0.62847019,  0.15092641],\n",
       "       [-1.64014666,  1.07818673],\n",
       "       [-0.61230184, -0.87497862],\n",
       "       [ 1.11540136, -0.50670502],\n",
       "       [ 0.81628697,  0.09173958],\n",
       "       [ 0.86594689,  0.67703156],\n",
       "       [ 1.16044175,  1.69636028],\n",
       "       [ 0.3439403 , -0.33572085],\n",
       "       [-0.44022445, -1.15118382],\n",
       "       [-0.36977666,  1.14394988],\n",
       "       [ 0.16031409, -1.35504957],\n",
       "       [-0.02793164, -1.40108377],\n",
       "       [-0.29470934, -0.55931553],\n",
       "       [-0.88485395, -1.14460751],\n",
       "       [-0.52568571, -1.42738902],\n",
       "       [-0.85829167,  1.40042613],\n",
       "       [-0.99918725, -1.15118382],\n",
       "       [ 0.92022633, -1.24325222],\n",
       "       [-0.64117389, -0.75002865],\n",
       "       [ 0.98836436, -0.41463662],\n",
       "       [-1.55815005,  1.03215253],\n",
       "       [ 0.65922304, -1.35504957],\n",
       "       [-1.07078992, -0.76318128],\n",
       "       [ 1.10269766,  0.72964207],\n",
       "       [-0.25082383, -0.97362333],\n",
       "       [-1.09042291,  1.56483399],\n",
       "       [ 1.14311852,  0.9729657 ],\n",
       "       [ 1.65473117, -0.61192605],\n",
       "       [-0.13418077,  1.28862879],\n",
       "       [ 0.60840824,  1.61086819],\n",
       "       [ 0.39590999,  0.67045524],\n",
       "       [ 0.24000094,  0.89404993],\n",
       "       [ 1.30133733,  0.24299481],\n",
       "       [-0.76590112,  0.22984219],\n",
       "       [ 0.85093342,  1.21628933],\n",
       "       [ 0.00209529,  0.40082636],\n",
       "       [-1.33063833, -1.42081271],\n",
       "       [ 0.74121965, -0.97362333],\n",
       "       [-0.92873946, -0.69741813],\n",
       "       [ 0.10141512,  1.18998408],\n",
       "       [ 1.63509818, -0.82894442],\n",
       "       [-0.8756149 , -0.75660496],\n",
       "       [-1.13199866,  0.17065536],\n",
       "       [ 1.41451575, -1.33532062],\n",
       "       [-1.19205251,  1.17683145],\n",
       "       [ 1.73441801,  0.33506321],\n",
       "       [-1.43111305, -0.09897353],\n",
       "       [-0.78091459,  0.77567627],\n",
       "       [ 1.54963692,  1.68978396],\n",
       "       [-1.548911  , -1.38793114],\n",
       "       [-1.03036906, -1.39450745],\n",
       "       [ 0.89597381,  1.69636028],\n",
       "       [-1.13430842,  1.05845779],\n",
       "       [-0.0752818 , -0.26338139],\n",
       "       [-1.49578643, -0.48039976],\n",
       "       [ 1.36947536,  1.28205248],\n",
       "       [-0.46216721,  0.4205553 ],\n",
       "       [-0.26006289, -0.23707613],\n",
       "       [-0.56033216, -1.20379434],\n",
       "       [ 0.58877525,  0.80198153],\n",
       "       [-0.76705601,  0.2824527 ],\n",
       "       [ 0.63381564, -1.29586274],\n",
       "       [ 1.0934586 ,  0.2824527 ],\n",
       "       [ 0.65922304, -1.32216799],\n",
       "       [ 0.89828358,  0.65730262],\n",
       "       [ 0.08178213, -1.44054165],\n",
       "       [-0.56379681,  1.33466299],\n",
       "       [ 0.48714565,  1.36096825],\n",
       "       [ 1.12464041, -1.04596279],\n",
       "       [ 1.77483888,  0.86116836],\n",
       "       [ 0.87403106,  0.29560533],\n",
       "       [ 1.54732716, -1.37477851],\n",
       "       [ 1.38795347, -1.29586274],\n",
       "       [-1.22207944,  1.01242359],\n",
       "       [-0.3801706 , -0.58562079],\n",
       "       [-0.95992127, -0.73687602],\n",
       "       [-0.53723452, -0.55273922],\n",
       "       [-1.44959116, -1.25640485],\n",
       "       [-0.30856792, -1.01965754],\n",
       "       [ 0.8901994 ,  0.67703156],\n",
       "       [ 1.5126807 ,  0.3745211 ],\n",
       "       [-1.33872251,  0.64414999],\n",
       "       [-0.80054758, -0.4080603 ],\n",
       "       [-0.78553411,  1.72266554]])"
      ]
     },
     "execution_count": 32,
     "metadata": {},
     "output_type": "execute_result"
    }
   ],
   "source": [
    "x_train"
   ]
  },
  {
   "cell_type": "code",
   "execution_count": 33,
   "id": "3c4d69ed",
   "metadata": {},
   "outputs": [
    {
     "data": {
      "text/plain": [
       "array([[ 0.78626004,  1.73581816],\n",
       "       [ 0.69040485, -0.05951564],\n",
       "       [-0.54300893, -1.43396534],\n",
       "       [ 1.58774802, -0.86182599],\n",
       "       [ 1.28285922, -0.12527879],\n",
       "       [ 1.627014  ,  1.23601828],\n",
       "       [ 0.23769118,  0.55208159],\n",
       "       [ 0.43979549, -0.81579179],\n",
       "       [-0.83288427, -0.47382345],\n",
       "       [ 0.8393846 ,  0.02597644],\n",
       "       [ 0.25154976, -0.15158405],\n",
       "       [-0.84905261, -0.1778893 ],\n",
       "       [ 0.83130043,  0.0522817 ],\n",
       "       [-0.3801706 ,  1.61744451],\n",
       "       [ 0.95949231, -0.98677596],\n",
       "       [-0.19654439,  0.90062625],\n",
       "       [-0.12725148, -0.3159919 ],\n",
       "       [ 1.70901061, -1.25640485],\n",
       "       [-1.35258109,  1.03872885],\n",
       "       [ 0.78510516,  0.41397899],\n",
       "       [-0.48872949, -0.89470756],\n",
       "       [-0.86522096,  0.8808973 ],\n",
       "       [-1.3583555 ,  0.16407904],\n",
       "       [-0.40788776, -0.60534973],\n",
       "       [-0.34436926, -0.38175505],\n",
       "       [ 0.52756651, -0.33572085],\n",
       "       [-1.15047677,  0.22984219],\n",
       "       [ 1.22511513,  0.25614744],\n",
       "       [ 0.27811204,  1.23601828],\n",
       "       [ 1.12464041, -0.42778925],\n",
       "       [ 1.12233065,  1.2031367 ],\n",
       "       [ 1.05996703, -1.30243905],\n",
       "       [ 0.08062725,  0.81513416],\n",
       "       [ 0.31737802, -1.01308122],\n",
       "       [ 1.2204956 ,  0.46001319],\n",
       "       [ 0.48714565, -0.14500773],\n",
       "       [ 0.92022633, -1.30243905],\n",
       "       [-0.15381376, -1.15118382],\n",
       "       [ 0.85555295,  1.36096825],\n",
       "       [-1.421874  , -0.20419456],\n",
       "       [-1.49694131, -1.49972848],\n",
       "       [-0.60421767, -1.50630479],\n",
       "       [-1.43226793, -0.73029971],\n",
       "       [ 0.70888296,  0.63757367],\n",
       "       [-1.56392446,  0.32191059],\n",
       "       [ 0.05291009,  0.04570538],\n",
       "       [-0.74511325,  1.55168136],\n",
       "       [ 0.98489971,  0.95323676],\n",
       "       [ 0.71927689,  1.43988402],\n",
       "       [ 1.00222294,  0.59811579],\n",
       "       [ 1.6974618 ,  1.25574722],\n",
       "       [-0.22657131,  0.74937102],\n",
       "       [-1.42418376, -0.47382345],\n",
       "       [ 0.46058337,  1.51222348],\n",
       "       [ 1.41913528, -0.21077087],\n",
       "       [ 0.26425346, -0.86840231],\n",
       "       [ 0.87518594, -1.17091276],\n",
       "       [-1.35951038, -0.80263916],\n",
       "       [ 1.03224987, -0.96047071],\n",
       "       [-1.15163165,  0.17723167]])"
      ]
     },
     "execution_count": 33,
     "metadata": {},
     "output_type": "execute_result"
    }
   ],
   "source": [
    "x_test"
   ]
  },
  {
   "cell_type": "markdown",
   "id": "c6f21238-b787-43df-a051-c0f1757d7836",
   "metadata": {},
   "source": [
    "# Model Training : Train a Linear Regression model using the training data"
   ]
  },
  {
   "cell_type": "code",
   "execution_count": 34,
   "id": "31d36ede",
   "metadata": {},
   "outputs": [],
   "source": [
    "# sklearn: inbuilt package\n",
    "# linear_model: inbuilt outer class\n",
    "# LinearRegression: inbuilt inner class\n",
    "# 1) Train the model with 70% data then use inbuilt method fit (input, output)\n",
    "# 2) Test the model with 30% data use inbuilt method predict(texting input)\n"
   ]
  },
  {
   "cell_type": "code",
   "execution_count": 35,
   "id": "b5f9db59",
   "metadata": {},
   "outputs": [],
   "source": [
    "# Perform the model with LinearRegression algoithm\n",
    "#call class\n",
    "from sklearn.linear_model import LinearRegression"
   ]
  },
  {
   "cell_type": "code",
   "execution_count": 36,
   "id": "7c412a73",
   "metadata": {},
   "outputs": [],
   "source": [
    "# Create the object of class LinearRegression\n",
    "\n",
    "lr = LinearRegression()"
   ]
  },
  {
   "cell_type": "code",
   "execution_count": 37,
   "id": "2004e809",
   "metadata": {},
   "outputs": [
    {
     "data": {
      "text/html": [
       "<style>#sk-container-id-1 {color: black;background-color: white;}#sk-container-id-1 pre{padding: 0;}#sk-container-id-1 div.sk-toggleable {background-color: white;}#sk-container-id-1 label.sk-toggleable__label {cursor: pointer;display: block;width: 100%;margin-bottom: 0;padding: 0.3em;box-sizing: border-box;text-align: center;}#sk-container-id-1 label.sk-toggleable__label-arrow:before {content: \"▸\";float: left;margin-right: 0.25em;color: #696969;}#sk-container-id-1 label.sk-toggleable__label-arrow:hover:before {color: black;}#sk-container-id-1 div.sk-estimator:hover label.sk-toggleable__label-arrow:before {color: black;}#sk-container-id-1 div.sk-toggleable__content {max-height: 0;max-width: 0;overflow: hidden;text-align: left;background-color: #f0f8ff;}#sk-container-id-1 div.sk-toggleable__content pre {margin: 0.2em;color: black;border-radius: 0.25em;background-color: #f0f8ff;}#sk-container-id-1 input.sk-toggleable__control:checked~div.sk-toggleable__content {max-height: 200px;max-width: 100%;overflow: auto;}#sk-container-id-1 input.sk-toggleable__control:checked~label.sk-toggleable__label-arrow:before {content: \"▾\";}#sk-container-id-1 div.sk-estimator input.sk-toggleable__control:checked~label.sk-toggleable__label {background-color: #d4ebff;}#sk-container-id-1 div.sk-label input.sk-toggleable__control:checked~label.sk-toggleable__label {background-color: #d4ebff;}#sk-container-id-1 input.sk-hidden--visually {border: 0;clip: rect(1px 1px 1px 1px);clip: rect(1px, 1px, 1px, 1px);height: 1px;margin: -1px;overflow: hidden;padding: 0;position: absolute;width: 1px;}#sk-container-id-1 div.sk-estimator {font-family: monospace;background-color: #f0f8ff;border: 1px dotted black;border-radius: 0.25em;box-sizing: border-box;margin-bottom: 0.5em;}#sk-container-id-1 div.sk-estimator:hover {background-color: #d4ebff;}#sk-container-id-1 div.sk-parallel-item::after {content: \"\";width: 100%;border-bottom: 1px solid gray;flex-grow: 1;}#sk-container-id-1 div.sk-label:hover label.sk-toggleable__label {background-color: #d4ebff;}#sk-container-id-1 div.sk-serial::before {content: \"\";position: absolute;border-left: 1px solid gray;box-sizing: border-box;top: 0;bottom: 0;left: 50%;z-index: 0;}#sk-container-id-1 div.sk-serial {display: flex;flex-direction: column;align-items: center;background-color: white;padding-right: 0.2em;padding-left: 0.2em;position: relative;}#sk-container-id-1 div.sk-item {position: relative;z-index: 1;}#sk-container-id-1 div.sk-parallel {display: flex;align-items: stretch;justify-content: center;background-color: white;position: relative;}#sk-container-id-1 div.sk-item::before, #sk-container-id-1 div.sk-parallel-item::before {content: \"\";position: absolute;border-left: 1px solid gray;box-sizing: border-box;top: 0;bottom: 0;left: 50%;z-index: -1;}#sk-container-id-1 div.sk-parallel-item {display: flex;flex-direction: column;z-index: 1;position: relative;background-color: white;}#sk-container-id-1 div.sk-parallel-item:first-child::after {align-self: flex-end;width: 50%;}#sk-container-id-1 div.sk-parallel-item:last-child::after {align-self: flex-start;width: 50%;}#sk-container-id-1 div.sk-parallel-item:only-child::after {width: 0;}#sk-container-id-1 div.sk-dashed-wrapped {border: 1px dashed gray;margin: 0 0.4em 0.5em 0.4em;box-sizing: border-box;padding-bottom: 0.4em;background-color: white;}#sk-container-id-1 div.sk-label label {font-family: monospace;font-weight: bold;display: inline-block;line-height: 1.2em;}#sk-container-id-1 div.sk-label-container {text-align: center;}#sk-container-id-1 div.sk-container {/* jupyter's `normalize.less` sets `[hidden] { display: none; }` but bootstrap.min.css set `[hidden] { display: none !important; }` so we also need the `!important` here to be able to override the default hidden behavior on the sphinx rendered scikit-learn.org. See: https://github.com/scikit-learn/scikit-learn/issues/21755 */display: inline-block !important;position: relative;}#sk-container-id-1 div.sk-text-repr-fallback {display: none;}</style><div id=\"sk-container-id-1\" class=\"sk-top-container\"><div class=\"sk-text-repr-fallback\"><pre>LinearRegression()</pre><b>In a Jupyter environment, please rerun this cell to show the HTML representation or trust the notebook. <br />On GitHub, the HTML representation is unable to render, please try loading this page with nbviewer.org.</b></div><div class=\"sk-container\" hidden><div class=\"sk-item\"><div class=\"sk-estimator sk-toggleable\"><input class=\"sk-toggleable__control sk-hidden--visually\" id=\"sk-estimator-id-1\" type=\"checkbox\" checked><label for=\"sk-estimator-id-1\" class=\"sk-toggleable__label sk-toggleable__label-arrow\">LinearRegression</label><div class=\"sk-toggleable__content\"><pre>LinearRegression()</pre></div></div></div></div></div>"
      ],
      "text/plain": [
       "LinearRegression()"
      ]
     },
     "execution_count": 37,
     "metadata": {},
     "output_type": "execute_result"
    }
   ],
   "source": [
    "# Train the model with 70% data, use inbuilt method fit() of LinearRegression class\n",
    "\n",
    "lr.fit(x_train, y_train)"
   ]
  },
  {
   "cell_type": "code",
   "execution_count": 38,
   "id": "b55c714b",
   "metadata": {},
   "outputs": [
    {
     "data": {
      "text/plain": [
       "array([4.06756287, 2.70136813])"
      ]
     },
     "execution_count": 38,
     "metadata": {},
     "output_type": "execute_result"
    }
   ],
   "source": [
    "# Check slope or gradient or coefficient of each inputs\n",
    "# use inbuilt attributes of LinearRegression class\n",
    "# coef_\n",
    "\n",
    "lr.coef_"
   ]
  },
  {
   "cell_type": "code",
   "execution_count": 39,
   "id": "0819e258",
   "metadata": {},
   "outputs": [
    {
     "data": {
      "text/plain": [
       "Index(['TV', 'radio'], dtype='object')"
      ]
     },
     "execution_count": 39,
     "metadata": {},
     "output_type": "execute_result"
    }
   ],
   "source": [
    "# To show all columns name\n",
    "x.columns"
   ]
  },
  {
   "cell_type": "markdown",
   "id": "26e24531-cad6-434f-bc85-6d931006912b",
   "metadata": {},
   "source": [
    "#slope of TV: 4.06756287 \n",
    "\n",
    "#slope of radio: 2.70136813"
   ]
  },
  {
   "cell_type": "code",
   "execution_count": 40,
   "id": "defff307",
   "metadata": {},
   "outputs": [
    {
     "data": {
      "text/plain": [
       "13.79142857142857"
      ]
     },
     "execution_count": 40,
     "metadata": {},
     "output_type": "execute_result"
    }
   ],
   "source": [
    "# Check intercept, use inbuilt attributes intercept_ of LinearRegression class\n",
    "\n",
    "lr.intercept_"
   ]
  },
  {
   "cell_type": "markdown",
   "id": "e80e791c-ed18-4d2d-a4c3-27c0d329fdf0",
   "metadata": {},
   "source": [
    "# Model Evaluation: Evaluate the trained model using testing data and metrics like Mean Squared Error (MSE)"
   ]
  },
  {
   "cell_type": "code",
   "execution_count": 41,
   "id": "440f08f6",
   "metadata": {},
   "outputs": [
    {
     "data": {
      "text/plain": [
       "array([21.6786746 , 16.43892004,  7.70903733, 17.92158421, 18.67111499,\n",
       "       23.74835071, 16.24962798, 13.37657045,  9.12364788, 17.27585015,\n",
       "       14.40513872,  9.85730919, 17.31402746, 16.61437382, 15.02857874,\n",
       "       15.42489496, 12.42021473, 17.34892466, 11.09570896, 18.10320281,\n",
       "        9.38655615, 12.65171582,  8.70947008, 10.49704698, 11.35942404,\n",
       "       15.03043294,  9.73268033, 19.46660993, 18.26160716, 17.21035792,\n",
       "       21.60669421, 14.58454377, 16.32136242, 12.3456783 , 19.99853614,\n",
       "       15.38120487, 14.01613968, 10.05601014, 20.94792024,  7.45626202,\n",
       "        3.65120693,  7.26465144,  5.99278035, 18.39717578,  8.2996665 ,\n",
       "       14.13011074, 14.95229617, 20.37261349, 20.60678937, 19.48376432,\n",
       "       24.08819667, 14.89416249,  6.71850002, 19.74995269, 18.99448081,\n",
       "       12.52042181, 14.18823598,  6.09331077, 15.39558485,  9.58586241])"
      ]
     },
     "execution_count": 41,
     "metadata": {},
     "output_type": "execute_result"
    }
   ],
   "source": [
    "# Test the model with 30% data, use inbuilt method predict() of LinearRegression class.\n",
    "# Equation of line(if one input X)Y_predict = mX+c\n",
    "# But we have 2 inputs TV and radio, Y_pred = m1*TV + m2*radio +c\n",
    "\n",
    "y_pred = lr.predict(x_test)\n",
    "y_pred"
   ]
  },
  {
   "cell_type": "code",
   "execution_count": 42,
   "id": "0f544988",
   "metadata": {},
   "outputs": [
    {
     "data": {
      "text/html": [
       "<div>\n",
       "<style scoped>\n",
       "    .dataframe tbody tr th:only-of-type {\n",
       "        vertical-align: middle;\n",
       "    }\n",
       "\n",
       "    .dataframe tbody tr th {\n",
       "        vertical-align: top;\n",
       "    }\n",
       "\n",
       "    .dataframe thead th {\n",
       "        text-align: right;\n",
       "    }\n",
       "</style>\n",
       "<table border=\"1\" class=\"dataframe\">\n",
       "  <thead>\n",
       "    <tr style=\"text-align: right;\">\n",
       "      <th></th>\n",
       "      <th>Actual Output</th>\n",
       "      <th>Predicted Output</th>\n",
       "    </tr>\n",
       "  </thead>\n",
       "  <tbody>\n",
       "    <tr>\n",
       "      <th>58</th>\n",
       "      <td>23.8</td>\n",
       "      <td>21.678675</td>\n",
       "    </tr>\n",
       "    <tr>\n",
       "      <th>40</th>\n",
       "      <td>16.6</td>\n",
       "      <td>16.438920</td>\n",
       "    </tr>\n",
       "    <tr>\n",
       "      <th>34</th>\n",
       "      <td>9.5</td>\n",
       "      <td>7.709037</td>\n",
       "    </tr>\n",
       "    <tr>\n",
       "      <th>102</th>\n",
       "      <td>14.8</td>\n",
       "      <td>17.921584</td>\n",
       "    </tr>\n",
       "    <tr>\n",
       "      <th>184</th>\n",
       "      <td>17.6</td>\n",
       "      <td>18.671115</td>\n",
       "    </tr>\n",
       "    <tr>\n",
       "      <th>198</th>\n",
       "      <td>25.5</td>\n",
       "      <td>23.748351</td>\n",
       "    </tr>\n",
       "    <tr>\n",
       "      <th>95</th>\n",
       "      <td>16.9</td>\n",
       "      <td>16.249628</td>\n",
       "    </tr>\n",
       "    <tr>\n",
       "      <th>4</th>\n",
       "      <td>12.9</td>\n",
       "      <td>13.376570</td>\n",
       "    </tr>\n",
       "    <tr>\n",
       "      <th>29</th>\n",
       "      <td>10.5</td>\n",
       "      <td>9.123648</td>\n",
       "    </tr>\n",
       "    <tr>\n",
       "      <th>168</th>\n",
       "      <td>17.1</td>\n",
       "      <td>17.275850</td>\n",
       "    </tr>\n",
       "    <tr>\n",
       "      <th>171</th>\n",
       "      <td>14.5</td>\n",
       "      <td>14.405139</td>\n",
       "    </tr>\n",
       "    <tr>\n",
       "      <th>18</th>\n",
       "      <td>11.3</td>\n",
       "      <td>9.857309</td>\n",
       "    </tr>\n",
       "    <tr>\n",
       "      <th>11</th>\n",
       "      <td>17.4</td>\n",
       "      <td>17.314027</td>\n",
       "    </tr>\n",
       "    <tr>\n",
       "      <th>89</th>\n",
       "      <td>16.7</td>\n",
       "      <td>16.614374</td>\n",
       "    </tr>\n",
       "    <tr>\n",
       "      <th>110</th>\n",
       "      <td>13.4</td>\n",
       "      <td>15.028579</td>\n",
       "    </tr>\n",
       "    <tr>\n",
       "      <th>118</th>\n",
       "      <td>15.9</td>\n",
       "      <td>15.424895</td>\n",
       "    </tr>\n",
       "    <tr>\n",
       "      <th>159</th>\n",
       "      <td>12.9</td>\n",
       "      <td>12.420215</td>\n",
       "    </tr>\n",
       "    <tr>\n",
       "      <th>35</th>\n",
       "      <td>12.8</td>\n",
       "      <td>17.348925</td>\n",
       "    </tr>\n",
       "    <tr>\n",
       "      <th>136</th>\n",
       "      <td>9.5</td>\n",
       "      <td>11.095709</td>\n",
       "    </tr>\n",
       "    <tr>\n",
       "      <th>59</th>\n",
       "      <td>18.4</td>\n",
       "      <td>18.103203</td>\n",
       "    </tr>\n",
       "    <tr>\n",
       "      <th>51</th>\n",
       "      <td>10.7</td>\n",
       "      <td>9.386556</td>\n",
       "    </tr>\n",
       "    <tr>\n",
       "      <th>16</th>\n",
       "      <td>12.5</td>\n",
       "      <td>12.651716</td>\n",
       "    </tr>\n",
       "    <tr>\n",
       "      <th>44</th>\n",
       "      <td>8.5</td>\n",
       "      <td>8.709470</td>\n",
       "    </tr>\n",
       "    <tr>\n",
       "      <th>94</th>\n",
       "      <td>11.5</td>\n",
       "      <td>10.497047</td>\n",
       "    </tr>\n",
       "    <tr>\n",
       "      <th>31</th>\n",
       "      <td>11.9</td>\n",
       "      <td>11.359424</td>\n",
       "    </tr>\n",
       "    <tr>\n",
       "      <th>162</th>\n",
       "      <td>14.9</td>\n",
       "      <td>15.030433</td>\n",
       "    </tr>\n",
       "    <tr>\n",
       "      <th>38</th>\n",
       "      <td>10.1</td>\n",
       "      <td>9.732680</td>\n",
       "    </tr>\n",
       "    <tr>\n",
       "      <th>28</th>\n",
       "      <td>18.9</td>\n",
       "      <td>19.466610</td>\n",
       "    </tr>\n",
       "    <tr>\n",
       "      <th>193</th>\n",
       "      <td>19.6</td>\n",
       "      <td>18.261607</td>\n",
       "    </tr>\n",
       "    <tr>\n",
       "      <th>27</th>\n",
       "      <td>15.9</td>\n",
       "      <td>17.210358</td>\n",
       "    </tr>\n",
       "    <tr>\n",
       "      <th>47</th>\n",
       "      <td>23.2</td>\n",
       "      <td>21.606694</td>\n",
       "    </tr>\n",
       "    <tr>\n",
       "      <th>165</th>\n",
       "      <td>11.9</td>\n",
       "      <td>14.584544</td>\n",
       "    </tr>\n",
       "    <tr>\n",
       "      <th>194</th>\n",
       "      <td>17.3</td>\n",
       "      <td>16.321362</td>\n",
       "    </tr>\n",
       "    <tr>\n",
       "      <th>177</th>\n",
       "      <td>11.7</td>\n",
       "      <td>12.345678</td>\n",
       "    </tr>\n",
       "    <tr>\n",
       "      <th>176</th>\n",
       "      <td>20.2</td>\n",
       "      <td>19.998536</td>\n",
       "    </tr>\n",
       "    <tr>\n",
       "      <th>97</th>\n",
       "      <td>15.5</td>\n",
       "      <td>15.381205</td>\n",
       "    </tr>\n",
       "    <tr>\n",
       "      <th>174</th>\n",
       "      <td>11.5</td>\n",
       "      <td>14.016140</td>\n",
       "    </tr>\n",
       "    <tr>\n",
       "      <th>73</th>\n",
       "      <td>11.0</td>\n",
       "      <td>10.056010</td>\n",
       "    </tr>\n",
       "    <tr>\n",
       "      <th>69</th>\n",
       "      <td>22.3</td>\n",
       "      <td>20.947920</td>\n",
       "    </tr>\n",
       "    <tr>\n",
       "      <th>172</th>\n",
       "      <td>7.6</td>\n",
       "      <td>7.456262</td>\n",
       "    </tr>\n",
       "    <tr>\n",
       "      <th>108</th>\n",
       "      <td>5.3</td>\n",
       "      <td>3.651207</td>\n",
       "    </tr>\n",
       "    <tr>\n",
       "      <th>107</th>\n",
       "      <td>8.7</td>\n",
       "      <td>7.264651</td>\n",
       "    </tr>\n",
       "    <tr>\n",
       "      <th>189</th>\n",
       "      <td>6.7</td>\n",
       "      <td>5.992780</td>\n",
       "    </tr>\n",
       "    <tr>\n",
       "      <th>14</th>\n",
       "      <td>19.0</td>\n",
       "      <td>18.397176</td>\n",
       "    </tr>\n",
       "    <tr>\n",
       "      <th>56</th>\n",
       "      <td>5.5</td>\n",
       "      <td>8.299666</td>\n",
       "    </tr>\n",
       "    <tr>\n",
       "      <th>19</th>\n",
       "      <td>14.6</td>\n",
       "      <td>14.130111</td>\n",
       "    </tr>\n",
       "    <tr>\n",
       "      <th>114</th>\n",
       "      <td>14.6</td>\n",
       "      <td>14.952296</td>\n",
       "    </tr>\n",
       "    <tr>\n",
       "      <th>39</th>\n",
       "      <td>21.5</td>\n",
       "      <td>20.372613</td>\n",
       "    </tr>\n",
       "    <tr>\n",
       "      <th>185</th>\n",
       "      <td>22.6</td>\n",
       "      <td>20.606789</td>\n",
       "    </tr>\n",
       "    <tr>\n",
       "      <th>124</th>\n",
       "      <td>19.7</td>\n",
       "      <td>19.483764</td>\n",
       "    </tr>\n",
       "    <tr>\n",
       "      <th>98</th>\n",
       "      <td>25.4</td>\n",
       "      <td>24.088197</td>\n",
       "    </tr>\n",
       "    <tr>\n",
       "      <th>123</th>\n",
       "      <td>15.2</td>\n",
       "      <td>14.894162</td>\n",
       "    </tr>\n",
       "    <tr>\n",
       "      <th>119</th>\n",
       "      <td>6.6</td>\n",
       "      <td>6.718500</td>\n",
       "    </tr>\n",
       "    <tr>\n",
       "      <th>53</th>\n",
       "      <td>21.2</td>\n",
       "      <td>19.749953</td>\n",
       "    </tr>\n",
       "    <tr>\n",
       "      <th>33</th>\n",
       "      <td>17.4</td>\n",
       "      <td>18.994481</td>\n",
       "    </tr>\n",
       "    <tr>\n",
       "      <th>179</th>\n",
       "      <td>12.6</td>\n",
       "      <td>12.520422</td>\n",
       "    </tr>\n",
       "    <tr>\n",
       "      <th>181</th>\n",
       "      <td>12.2</td>\n",
       "      <td>14.188236</td>\n",
       "    </tr>\n",
       "    <tr>\n",
       "      <th>106</th>\n",
       "      <td>7.2</td>\n",
       "      <td>6.093311</td>\n",
       "    </tr>\n",
       "    <tr>\n",
       "      <th>199</th>\n",
       "      <td>13.4</td>\n",
       "      <td>15.395585</td>\n",
       "    </tr>\n",
       "    <tr>\n",
       "      <th>138</th>\n",
       "      <td>9.6</td>\n",
       "      <td>9.585862</td>\n",
       "    </tr>\n",
       "  </tbody>\n",
       "</table>\n",
       "</div>"
      ],
      "text/plain": [
       "     Actual Output  Predicted Output\n",
       "58            23.8         21.678675\n",
       "40            16.6         16.438920\n",
       "34             9.5          7.709037\n",
       "102           14.8         17.921584\n",
       "184           17.6         18.671115\n",
       "198           25.5         23.748351\n",
       "95            16.9         16.249628\n",
       "4             12.9         13.376570\n",
       "29            10.5          9.123648\n",
       "168           17.1         17.275850\n",
       "171           14.5         14.405139\n",
       "18            11.3          9.857309\n",
       "11            17.4         17.314027\n",
       "89            16.7         16.614374\n",
       "110           13.4         15.028579\n",
       "118           15.9         15.424895\n",
       "159           12.9         12.420215\n",
       "35            12.8         17.348925\n",
       "136            9.5         11.095709\n",
       "59            18.4         18.103203\n",
       "51            10.7          9.386556\n",
       "16            12.5         12.651716\n",
       "44             8.5          8.709470\n",
       "94            11.5         10.497047\n",
       "31            11.9         11.359424\n",
       "162           14.9         15.030433\n",
       "38            10.1          9.732680\n",
       "28            18.9         19.466610\n",
       "193           19.6         18.261607\n",
       "27            15.9         17.210358\n",
       "47            23.2         21.606694\n",
       "165           11.9         14.584544\n",
       "194           17.3         16.321362\n",
       "177           11.7         12.345678\n",
       "176           20.2         19.998536\n",
       "97            15.5         15.381205\n",
       "174           11.5         14.016140\n",
       "73            11.0         10.056010\n",
       "69            22.3         20.947920\n",
       "172            7.6          7.456262\n",
       "108            5.3          3.651207\n",
       "107            8.7          7.264651\n",
       "189            6.7          5.992780\n",
       "14            19.0         18.397176\n",
       "56             5.5          8.299666\n",
       "19            14.6         14.130111\n",
       "114           14.6         14.952296\n",
       "39            21.5         20.372613\n",
       "185           22.6         20.606789\n",
       "124           19.7         19.483764\n",
       "98            25.4         24.088197\n",
       "123           15.2         14.894162\n",
       "119            6.6          6.718500\n",
       "53            21.2         19.749953\n",
       "33            17.4         18.994481\n",
       "179           12.6         12.520422\n",
       "181           12.2         14.188236\n",
       "106            7.2          6.093311\n",
       "199           13.4         15.395585\n",
       "138            9.6          9.585862"
      ]
     },
     "execution_count": 42,
     "metadata": {},
     "output_type": "execute_result"
    }
   ],
   "source": [
    "# Creating a dictionary\n",
    "\n",
    "dict = {'Actual Output': y_test, 'Predicted Output': y_pred}\n",
    "dict = pd.DataFrame(dict)\n",
    "dict"
   ]
  },
  {
   "cell_type": "code",
   "execution_count": 43,
   "id": "1b744be5",
   "metadata": {},
   "outputs": [
    {
     "name": "stdout",
     "output_type": "stream",
     "text": [
      "Mean Squared Error:  1.9147050289721796\n"
     ]
    }
   ],
   "source": [
    "# check mean squared error MSE = RSS/no. of records\n",
    "# RSS means residual sum of squared error\n",
    "\n",
    "from sklearn.metrics import mean_squared_error\n",
    "mse = mean_squared_error(y_test, y_pred)\n",
    "print(\"Mean Squared Error: \", mse)"
   ]
  },
  {
   "cell_type": "markdown",
   "id": "dd717f32-bd88-49b6-970b-c4c27b5287f6",
   "metadata": {},
   "source": [
    "#Cross check: model is correct or not, \n",
    "#first check model is underfit or not? \n",
    "#if model is no underfit then check model is overfit or not?\n",
    "\n",
    "#condition for underfit the model: training's score < testing score\n",
    "\n",
    "#condition for overfit the model: training's score > testing score\n"
   ]
  },
  {
   "cell_type": "code",
   "execution_count": 44,
   "id": "b5d9622c-c988-4747-b75e-c64898af30cb",
   "metadata": {},
   "outputs": [
    {
     "name": "stdout",
     "output_type": "stream",
     "text": [
      "training score:  0.88\n"
     ]
    }
   ],
   "source": [
    "#first find the training score\n",
    "#use inbuilt method score() of linear regression class\n",
    "score1=lr.score(x_train,y_train)\n",
    "score1=np.round(score1,2)\n",
    "print(\"training score: \",score1)"
   ]
  },
  {
   "cell_type": "code",
   "execution_count": 45,
   "id": "4c930abc-bdf3-4efa-8ea1-d0e7cc98322e",
   "metadata": {},
   "outputs": [
    {
     "name": "stdout",
     "output_type": "stream",
     "text": [
      "testing score:  0.92\n"
     ]
    }
   ],
   "source": [
    "#find the testing score\n",
    "#use inbuilt method score() of LinearRegression class\n",
    "score2=lr.score(x_test,y_test)\n",
    "score2=round(score2,2)\n",
    "print(\"testing score: \",score2)"
   ]
  },
  {
   "cell_type": "code",
   "execution_count": 46,
   "id": "9d4927ec-2d9d-4c3b-941a-cb48ec826613",
   "metadata": {},
   "outputs": [],
   "source": [
    "#here training score is less than testing score means model is underfit\n",
    "#to overcome or remove underfitting problems of model then add new features(input) in given dataset:\n",
    "#here input : tv or radio\n",
    "\n",
    "#polynomial Linear Regression\n",
    "#TV      TV**2"
   ]
  },
  {
   "cell_type": "markdown",
   "id": "8b7f9404-9fc1-4cdb-a035-b0cbb45c2c54",
   "metadata": {},
   "source": [
    "# Polynomial Features"
   ]
  },
  {
   "cell_type": "code",
   "execution_count": 47,
   "id": "2cb1e724-4d0c-4216-a06d-0fd3d3b1163c",
   "metadata": {},
   "outputs": [],
   "source": [
    "#call polynomialFeatures class\n",
    "from sklearn.preprocessing import PolynomialFeatures"
   ]
  },
  {
   "cell_type": "code",
   "execution_count": 48,
   "id": "a008ae65-65ba-4dad-96ad-d0aa54c015d9",
   "metadata": {},
   "outputs": [],
   "source": [
    "#create the object of PolynomialFeatures class and passing the degree suppose pass degree=2\n",
    "#pf=PolynomialFeatures(2) #2 is the degree\n",
    "pf=PolynomialFeatures(3) # 3 is output degree"
   ]
  },
  {
   "cell_type": "code",
   "execution_count": 49,
   "id": "e300cbf9-d304-4959-ada0-31779a61cfbb",
   "metadata": {},
   "outputs": [],
   "source": [
    "#increase the degree of input x: TV and radio\n",
    "#use inbuilt method fir_transform() of polynomialfeatures class\n",
    "x_poly=pf.fit_transform(x)"
   ]
  },
  {
   "cell_type": "code",
   "execution_count": 50,
   "id": "7afb251b-657d-479d-9074-06d8a4b21d48",
   "metadata": {},
   "outputs": [
    {
     "data": {
      "text/plain": [
       "array([[1.00000000e+00, 2.30100000e+02, 3.78000000e+01, ...,\n",
       "        2.00135918e+06, 3.28776084e+05, 5.40101520e+04],\n",
       "       [1.00000000e+00, 4.45000000e+01, 3.93000000e+01, ...,\n",
       "        7.78238250e+04, 6.87298050e+04, 6.06984570e+04],\n",
       "       [1.00000000e+00, 1.72000000e+01, 4.59000000e+01, ...,\n",
       "        1.35790560e+04, 3.62371320e+04, 9.67025790e+04],\n",
       "       ...,\n",
       "       [1.00000000e+00, 1.77000000e+02, 9.30000000e+00, ...,\n",
       "        2.91359700e+05, 1.53087300e+04, 8.04357000e+02],\n",
       "       [1.00000000e+00, 2.83600000e+02, 4.20000000e+01, ...,\n",
       "        3.37801632e+06, 5.00270400e+05, 7.40880000e+04],\n",
       "       [1.00000000e+00, 2.32100000e+02, 8.60000000e+00, ...,\n",
       "        4.63285526e+05, 1.71661160e+04, 6.36056000e+02]])"
      ]
     },
     "execution_count": 50,
     "metadata": {},
     "output_type": "execute_result"
    }
   ],
   "source": [
    "x_poly"
   ]
  },
  {
   "cell_type": "code",
   "execution_count": 51,
   "id": "cd93a38b-4f5d-4aa7-9b33-2db87d79fb8a",
   "metadata": {},
   "outputs": [],
   "source": [
    "#train test split:means to split data into 70% & 30%\n",
    "x_train, x_test, y_train, y_test = train_test_split(x_poly, y, test_size = 0.3, random_state = 1)"
   ]
  },
  {
   "cell_type": "code",
   "execution_count": 52,
   "id": "381fb402-d920-4a40-aadc-a2ec22605976",
   "metadata": {},
   "outputs": [
    {
     "data": {
      "text/plain": [
       "((140, 10), (60, 10))"
      ]
     },
     "execution_count": 52,
     "metadata": {},
     "output_type": "execute_result"
    }
   ],
   "source": [
    "x_train.shape, x_test.shape"
   ]
  },
  {
   "cell_type": "code",
   "execution_count": 53,
   "id": "b86226ba-d607-4a61-bbd9-a51e8ea098ca",
   "metadata": {},
   "outputs": [],
   "source": [
    "#perform the model with LinearRegression\n",
    "#create gthe object of class linearRegression\n",
    "lr=LinearRegression()"
   ]
  },
  {
   "cell_type": "code",
   "execution_count": 54,
   "id": "fcc994f6-23f6-4d28-9d2a-9c75a395dd9f",
   "metadata": {},
   "outputs": [
    {
     "data": {
      "text/html": [
       "<style>#sk-container-id-2 {color: black;background-color: white;}#sk-container-id-2 pre{padding: 0;}#sk-container-id-2 div.sk-toggleable {background-color: white;}#sk-container-id-2 label.sk-toggleable__label {cursor: pointer;display: block;width: 100%;margin-bottom: 0;padding: 0.3em;box-sizing: border-box;text-align: center;}#sk-container-id-2 label.sk-toggleable__label-arrow:before {content: \"▸\";float: left;margin-right: 0.25em;color: #696969;}#sk-container-id-2 label.sk-toggleable__label-arrow:hover:before {color: black;}#sk-container-id-2 div.sk-estimator:hover label.sk-toggleable__label-arrow:before {color: black;}#sk-container-id-2 div.sk-toggleable__content {max-height: 0;max-width: 0;overflow: hidden;text-align: left;background-color: #f0f8ff;}#sk-container-id-2 div.sk-toggleable__content pre {margin: 0.2em;color: black;border-radius: 0.25em;background-color: #f0f8ff;}#sk-container-id-2 input.sk-toggleable__control:checked~div.sk-toggleable__content {max-height: 200px;max-width: 100%;overflow: auto;}#sk-container-id-2 input.sk-toggleable__control:checked~label.sk-toggleable__label-arrow:before {content: \"▾\";}#sk-container-id-2 div.sk-estimator input.sk-toggleable__control:checked~label.sk-toggleable__label {background-color: #d4ebff;}#sk-container-id-2 div.sk-label input.sk-toggleable__control:checked~label.sk-toggleable__label {background-color: #d4ebff;}#sk-container-id-2 input.sk-hidden--visually {border: 0;clip: rect(1px 1px 1px 1px);clip: rect(1px, 1px, 1px, 1px);height: 1px;margin: -1px;overflow: hidden;padding: 0;position: absolute;width: 1px;}#sk-container-id-2 div.sk-estimator {font-family: monospace;background-color: #f0f8ff;border: 1px dotted black;border-radius: 0.25em;box-sizing: border-box;margin-bottom: 0.5em;}#sk-container-id-2 div.sk-estimator:hover {background-color: #d4ebff;}#sk-container-id-2 div.sk-parallel-item::after {content: \"\";width: 100%;border-bottom: 1px solid gray;flex-grow: 1;}#sk-container-id-2 div.sk-label:hover label.sk-toggleable__label {background-color: #d4ebff;}#sk-container-id-2 div.sk-serial::before {content: \"\";position: absolute;border-left: 1px solid gray;box-sizing: border-box;top: 0;bottom: 0;left: 50%;z-index: 0;}#sk-container-id-2 div.sk-serial {display: flex;flex-direction: column;align-items: center;background-color: white;padding-right: 0.2em;padding-left: 0.2em;position: relative;}#sk-container-id-2 div.sk-item {position: relative;z-index: 1;}#sk-container-id-2 div.sk-parallel {display: flex;align-items: stretch;justify-content: center;background-color: white;position: relative;}#sk-container-id-2 div.sk-item::before, #sk-container-id-2 div.sk-parallel-item::before {content: \"\";position: absolute;border-left: 1px solid gray;box-sizing: border-box;top: 0;bottom: 0;left: 50%;z-index: -1;}#sk-container-id-2 div.sk-parallel-item {display: flex;flex-direction: column;z-index: 1;position: relative;background-color: white;}#sk-container-id-2 div.sk-parallel-item:first-child::after {align-self: flex-end;width: 50%;}#sk-container-id-2 div.sk-parallel-item:last-child::after {align-self: flex-start;width: 50%;}#sk-container-id-2 div.sk-parallel-item:only-child::after {width: 0;}#sk-container-id-2 div.sk-dashed-wrapped {border: 1px dashed gray;margin: 0 0.4em 0.5em 0.4em;box-sizing: border-box;padding-bottom: 0.4em;background-color: white;}#sk-container-id-2 div.sk-label label {font-family: monospace;font-weight: bold;display: inline-block;line-height: 1.2em;}#sk-container-id-2 div.sk-label-container {text-align: center;}#sk-container-id-2 div.sk-container {/* jupyter's `normalize.less` sets `[hidden] { display: none; }` but bootstrap.min.css set `[hidden] { display: none !important; }` so we also need the `!important` here to be able to override the default hidden behavior on the sphinx rendered scikit-learn.org. See: https://github.com/scikit-learn/scikit-learn/issues/21755 */display: inline-block !important;position: relative;}#sk-container-id-2 div.sk-text-repr-fallback {display: none;}</style><div id=\"sk-container-id-2\" class=\"sk-top-container\"><div class=\"sk-text-repr-fallback\"><pre>LinearRegression()</pre><b>In a Jupyter environment, please rerun this cell to show the HTML representation or trust the notebook. <br />On GitHub, the HTML representation is unable to render, please try loading this page with nbviewer.org.</b></div><div class=\"sk-container\" hidden><div class=\"sk-item\"><div class=\"sk-estimator sk-toggleable\"><input class=\"sk-toggleable__control sk-hidden--visually\" id=\"sk-estimator-id-2\" type=\"checkbox\" checked><label for=\"sk-estimator-id-2\" class=\"sk-toggleable__label sk-toggleable__label-arrow\">LinearRegression</label><div class=\"sk-toggleable__content\"><pre>LinearRegression()</pre></div></div></div></div></div>"
      ],
      "text/plain": [
       "LinearRegression()"
      ]
     },
     "execution_count": 54,
     "metadata": {},
     "output_type": "execute_result"
    }
   ],
   "source": [
    "#train the model with 70% data, use inbuilt method fit() of LinearRegression class\n",
    "lr.fit(x_train,y_train)"
   ]
  },
  {
   "cell_type": "code",
   "execution_count": 55,
   "id": "734a7333-452c-4fe8-afe5-fcebcab8c3cb",
   "metadata": {},
   "outputs": [
    {
     "data": {
      "text/plain": [
       "array([ 0.00000000e+00,  9.16483199e-02,  2.25347616e-02, -4.65701531e-04,\n",
       "        1.30652795e-03, -1.62567917e-04,  8.31531755e-07, -7.44270012e-07,\n",
       "       -1.18928234e-06,  9.37589630e-06])"
      ]
     },
     "execution_count": 55,
     "metadata": {},
     "output_type": "execute_result"
    }
   ],
   "source": [
    "#check slope/ coefficient of each inputs/features\n",
    "lr.coef_"
   ]
  },
  {
   "cell_type": "code",
   "execution_count": 56,
   "id": "55b548a6-5bc3-4a81-b07b-bbeda9e1b1af",
   "metadata": {},
   "outputs": [
    {
     "data": {
      "text/plain": [
       "4.162147477344121"
      ]
     },
     "execution_count": 56,
     "metadata": {},
     "output_type": "execute_result"
    }
   ],
   "source": [
    "#$check intercept\n",
    "lr.intercept_"
   ]
  },
  {
   "cell_type": "code",
   "execution_count": 57,
   "id": "ee4c7776-a108-4099-8c89-cf10b91ece96",
   "metadata": {},
   "outputs": [],
   "source": [
    "#Test the model with 30% testing input\n",
    "#y_pred=m1*TV**1+m3*TV**2+m1*radio**0+m2*radio**1+m3*radio**2+c\n",
    "#c intercept\n",
    "y_pred=lr.predict(x_test)"
   ]
  },
  {
   "cell_type": "code",
   "execution_count": 58,
   "id": "a081b3c2-898f-43fe-be39-f4ad00a48320",
   "metadata": {},
   "outputs": [
    {
     "data": {
      "text/html": [
       "<div>\n",
       "<style scoped>\n",
       "    .dataframe tbody tr th:only-of-type {\n",
       "        vertical-align: middle;\n",
       "    }\n",
       "\n",
       "    .dataframe tbody tr th {\n",
       "        vertical-align: top;\n",
       "    }\n",
       "\n",
       "    .dataframe thead th {\n",
       "        text-align: right;\n",
       "    }\n",
       "</style>\n",
       "<table border=\"1\" class=\"dataframe\">\n",
       "  <thead>\n",
       "    <tr style=\"text-align: right;\">\n",
       "      <th></th>\n",
       "      <th>autual output</th>\n",
       "      <th>predicted output</th>\n",
       "    </tr>\n",
       "  </thead>\n",
       "  <tbody>\n",
       "    <tr>\n",
       "      <th>58</th>\n",
       "      <td>23.8</td>\n",
       "      <td>23.841888</td>\n",
       "    </tr>\n",
       "    <tr>\n",
       "      <th>40</th>\n",
       "      <td>16.6</td>\n",
       "      <td>16.154362</td>\n",
       "    </tr>\n",
       "    <tr>\n",
       "      <th>34</th>\n",
       "      <td>9.5</td>\n",
       "      <td>9.593118</td>\n",
       "    </tr>\n",
       "    <tr>\n",
       "      <th>102</th>\n",
       "      <td>14.8</td>\n",
       "      <td>14.865757</td>\n",
       "    </tr>\n",
       "    <tr>\n",
       "      <th>184</th>\n",
       "      <td>17.6</td>\n",
       "      <td>17.420540</td>\n",
       "    </tr>\n",
       "    <tr>\n",
       "      <th>198</th>\n",
       "      <td>25.5</td>\n",
       "      <td>25.472200</td>\n",
       "    </tr>\n",
       "    <tr>\n",
       "      <th>95</th>\n",
       "      <td>16.9</td>\n",
       "      <td>17.097140</td>\n",
       "    </tr>\n",
       "    <tr>\n",
       "      <th>4</th>\n",
       "      <td>12.9</td>\n",
       "      <td>12.923023</td>\n",
       "    </tr>\n",
       "    <tr>\n",
       "      <th>29</th>\n",
       "      <td>10.5</td>\n",
       "      <td>10.356254</td>\n",
       "    </tr>\n",
       "    <tr>\n",
       "      <th>168</th>\n",
       "      <td>17.1</td>\n",
       "      <td>16.854792</td>\n",
       "    </tr>\n",
       "    <tr>\n",
       "      <th>171</th>\n",
       "      <td>14.5</td>\n",
       "      <td>14.808870</td>\n",
       "    </tr>\n",
       "    <tr>\n",
       "      <th>18</th>\n",
       "      <td>11.3</td>\n",
       "      <td>10.769892</td>\n",
       "    </tr>\n",
       "    <tr>\n",
       "      <th>11</th>\n",
       "      <td>17.4</td>\n",
       "      <td>16.940170</td>\n",
       "    </tr>\n",
       "    <tr>\n",
       "      <th>89</th>\n",
       "      <td>16.7</td>\n",
       "      <td>17.571036</td>\n",
       "    </tr>\n",
       "    <tr>\n",
       "      <th>110</th>\n",
       "      <td>13.4</td>\n",
       "      <td>12.954220</td>\n",
       "    </tr>\n",
       "    <tr>\n",
       "      <th>118</th>\n",
       "      <td>15.9</td>\n",
       "      <td>16.479427</td>\n",
       "    </tr>\n",
       "    <tr>\n",
       "      <th>159</th>\n",
       "      <td>12.9</td>\n",
       "      <td>13.347708</td>\n",
       "    </tr>\n",
       "    <tr>\n",
       "      <th>35</th>\n",
       "      <td>12.8</td>\n",
       "      <td>13.260786</td>\n",
       "    </tr>\n",
       "    <tr>\n",
       "      <th>136</th>\n",
       "      <td>9.5</td>\n",
       "      <td>8.643959</td>\n",
       "    </tr>\n",
       "    <tr>\n",
       "      <th>59</th>\n",
       "      <td>18.4</td>\n",
       "      <td>18.268077</td>\n",
       "    </tr>\n",
       "    <tr>\n",
       "      <th>51</th>\n",
       "      <td>10.7</td>\n",
       "      <td>10.896747</td>\n",
       "    </tr>\n",
       "    <tr>\n",
       "      <th>16</th>\n",
       "      <td>12.5</td>\n",
       "      <td>12.569882</td>\n",
       "    </tr>\n",
       "    <tr>\n",
       "      <th>44</th>\n",
       "      <td>8.5</td>\n",
       "      <td>7.624229</td>\n",
       "    </tr>\n",
       "    <tr>\n",
       "      <th>94</th>\n",
       "      <td>11.5</td>\n",
       "      <td>11.792173</td>\n",
       "    </tr>\n",
       "    <tr>\n",
       "      <th>31</th>\n",
       "      <td>11.9</td>\n",
       "      <td>12.523031</td>\n",
       "    </tr>\n",
       "    <tr>\n",
       "      <th>162</th>\n",
       "      <td>14.9</td>\n",
       "      <td>14.773386</td>\n",
       "    </tr>\n",
       "    <tr>\n",
       "      <th>38</th>\n",
       "      <td>10.1</td>\n",
       "      <td>9.407978</td>\n",
       "    </tr>\n",
       "    <tr>\n",
       "      <th>28</th>\n",
       "      <td>18.9</td>\n",
       "      <td>18.964441</td>\n",
       "    </tr>\n",
       "    <tr>\n",
       "      <th>193</th>\n",
       "      <td>19.6</td>\n",
       "      <td>19.638868</td>\n",
       "    </tr>\n",
       "    <tr>\n",
       "      <th>27</th>\n",
       "      <td>15.9</td>\n",
       "      <td>15.646857</td>\n",
       "    </tr>\n",
       "    <tr>\n",
       "      <th>47</th>\n",
       "      <td>23.2</td>\n",
       "      <td>22.891192</td>\n",
       "    </tr>\n",
       "    <tr>\n",
       "      <th>165</th>\n",
       "      <td>11.9</td>\n",
       "      <td>11.741839</td>\n",
       "    </tr>\n",
       "    <tr>\n",
       "      <th>194</th>\n",
       "      <td>17.3</td>\n",
       "      <td>17.397822</td>\n",
       "    </tr>\n",
       "    <tr>\n",
       "      <th>177</th>\n",
       "      <td>11.7</td>\n",
       "      <td>12.094323</td>\n",
       "    </tr>\n",
       "    <tr>\n",
       "      <th>176</th>\n",
       "      <td>20.2</td>\n",
       "      <td>19.872794</td>\n",
       "    </tr>\n",
       "    <tr>\n",
       "      <th>97</th>\n",
       "      <td>15.5</td>\n",
       "      <td>15.373090</td>\n",
       "    </tr>\n",
       "    <tr>\n",
       "      <th>174</th>\n",
       "      <td>11.5</td>\n",
       "      <td>11.592242</td>\n",
       "    </tr>\n",
       "    <tr>\n",
       "      <th>73</th>\n",
       "      <td>11.0</td>\n",
       "      <td>11.037799</td>\n",
       "    </tr>\n",
       "    <tr>\n",
       "      <th>69</th>\n",
       "      <td>22.3</td>\n",
       "      <td>22.487360</td>\n",
       "    </tr>\n",
       "    <tr>\n",
       "      <th>172</th>\n",
       "      <td>7.6</td>\n",
       "      <td>6.748775</td>\n",
       "    </tr>\n",
       "    <tr>\n",
       "      <th>108</th>\n",
       "      <td>5.3</td>\n",
       "      <td>5.300472</td>\n",
       "    </tr>\n",
       "    <tr>\n",
       "      <th>107</th>\n",
       "      <td>8.7</td>\n",
       "      <td>9.296018</td>\n",
       "    </tr>\n",
       "    <tr>\n",
       "      <th>189</th>\n",
       "      <td>6.7</td>\n",
       "      <td>6.273259</td>\n",
       "    </tr>\n",
       "    <tr>\n",
       "      <th>14</th>\n",
       "      <td>19.0</td>\n",
       "      <td>18.927484</td>\n",
       "    </tr>\n",
       "    <tr>\n",
       "      <th>56</th>\n",
       "      <td>5.5</td>\n",
       "      <td>5.779619</td>\n",
       "    </tr>\n",
       "    <tr>\n",
       "      <th>19</th>\n",
       "      <td>14.6</td>\n",
       "      <td>14.902362</td>\n",
       "    </tr>\n",
       "    <tr>\n",
       "      <th>114</th>\n",
       "      <td>14.6</td>\n",
       "      <td>14.903319</td>\n",
       "    </tr>\n",
       "    <tr>\n",
       "      <th>39</th>\n",
       "      <td>21.5</td>\n",
       "      <td>21.211814</td>\n",
       "    </tr>\n",
       "    <tr>\n",
       "      <th>185</th>\n",
       "      <td>22.6</td>\n",
       "      <td>22.261408</td>\n",
       "    </tr>\n",
       "    <tr>\n",
       "      <th>124</th>\n",
       "      <td>19.7</td>\n",
       "      <td>19.726599</td>\n",
       "    </tr>\n",
       "    <tr>\n",
       "      <th>98</th>\n",
       "      <td>25.4</td>\n",
       "      <td>25.969396</td>\n",
       "    </tr>\n",
       "    <tr>\n",
       "      <th>123</th>\n",
       "      <td>15.2</td>\n",
       "      <td>15.910938</td>\n",
       "    </tr>\n",
       "    <tr>\n",
       "      <th>119</th>\n",
       "      <td>6.6</td>\n",
       "      <td>6.523425</td>\n",
       "    </tr>\n",
       "    <tr>\n",
       "      <th>53</th>\n",
       "      <td>21.2</td>\n",
       "      <td>21.462732</td>\n",
       "    </tr>\n",
       "    <tr>\n",
       "      <th>33</th>\n",
       "      <td>17.4</td>\n",
       "      <td>17.456169</td>\n",
       "    </tr>\n",
       "    <tr>\n",
       "      <th>179</th>\n",
       "      <td>12.6</td>\n",
       "      <td>12.502529</td>\n",
       "    </tr>\n",
       "    <tr>\n",
       "      <th>181</th>\n",
       "      <td>12.2</td>\n",
       "      <td>12.088481</td>\n",
       "    </tr>\n",
       "    <tr>\n",
       "      <th>106</th>\n",
       "      <td>7.2</td>\n",
       "      <td>6.766556</td>\n",
       "    </tr>\n",
       "    <tr>\n",
       "      <th>199</th>\n",
       "      <td>13.4</td>\n",
       "      <td>13.173522</td>\n",
       "    </tr>\n",
       "    <tr>\n",
       "      <th>138</th>\n",
       "      <td>9.6</td>\n",
       "      <td>9.330684</td>\n",
       "    </tr>\n",
       "  </tbody>\n",
       "</table>\n",
       "</div>"
      ],
      "text/plain": [
       "     autual output  predicted output\n",
       "58            23.8         23.841888\n",
       "40            16.6         16.154362\n",
       "34             9.5          9.593118\n",
       "102           14.8         14.865757\n",
       "184           17.6         17.420540\n",
       "198           25.5         25.472200\n",
       "95            16.9         17.097140\n",
       "4             12.9         12.923023\n",
       "29            10.5         10.356254\n",
       "168           17.1         16.854792\n",
       "171           14.5         14.808870\n",
       "18            11.3         10.769892\n",
       "11            17.4         16.940170\n",
       "89            16.7         17.571036\n",
       "110           13.4         12.954220\n",
       "118           15.9         16.479427\n",
       "159           12.9         13.347708\n",
       "35            12.8         13.260786\n",
       "136            9.5          8.643959\n",
       "59            18.4         18.268077\n",
       "51            10.7         10.896747\n",
       "16            12.5         12.569882\n",
       "44             8.5          7.624229\n",
       "94            11.5         11.792173\n",
       "31            11.9         12.523031\n",
       "162           14.9         14.773386\n",
       "38            10.1          9.407978\n",
       "28            18.9         18.964441\n",
       "193           19.6         19.638868\n",
       "27            15.9         15.646857\n",
       "47            23.2         22.891192\n",
       "165           11.9         11.741839\n",
       "194           17.3         17.397822\n",
       "177           11.7         12.094323\n",
       "176           20.2         19.872794\n",
       "97            15.5         15.373090\n",
       "174           11.5         11.592242\n",
       "73            11.0         11.037799\n",
       "69            22.3         22.487360\n",
       "172            7.6          6.748775\n",
       "108            5.3          5.300472\n",
       "107            8.7          9.296018\n",
       "189            6.7          6.273259\n",
       "14            19.0         18.927484\n",
       "56             5.5          5.779619\n",
       "19            14.6         14.902362\n",
       "114           14.6         14.903319\n",
       "39            21.5         21.211814\n",
       "185           22.6         22.261408\n",
       "124           19.7         19.726599\n",
       "98            25.4         25.969396\n",
       "123           15.2         15.910938\n",
       "119            6.6          6.523425\n",
       "53            21.2         21.462732\n",
       "33            17.4         17.456169\n",
       "179           12.6         12.502529\n",
       "181           12.2         12.088481\n",
       "106            7.2          6.766556\n",
       "199           13.4         13.173522\n",
       "138            9.6          9.330684"
      ]
     },
     "execution_count": 58,
     "metadata": {},
     "output_type": "execute_result"
    }
   ],
   "source": [
    "dict={\"autual output\":y_test,\"predicted output\":y_pred}\n",
    "df1=pd.DataFrame(dict)\n",
    "df1"
   ]
  },
  {
   "cell_type": "code",
   "execution_count": 59,
   "id": "3fd51115-19bc-4337-a7b8-b3952faa585d",
   "metadata": {},
   "outputs": [
    {
     "name": "stdout",
     "output_type": "stream",
     "text": [
      "mean squared error :  0.1446907864594868\n"
     ]
    }
   ],
   "source": [
    "#check mean squared error\n",
    "mse=mean_squared_error(y_test,y_pred)\n",
    "print(\"mean squared error : \",mse)"
   ]
  },
  {
   "cell_type": "code",
   "execution_count": 60,
   "id": "80ec2cdf-d69f-42fe-b772-747900d5063d",
   "metadata": {},
   "outputs": [
    {
     "name": "stdout",
     "output_type": "stream",
     "text": [
      "training score:  0.99\n"
     ]
    }
   ],
   "source": [
    "#Evaluation the model,\n",
    "#check training score\n",
    "#use inbuilt method score() of linearregression class\n",
    "score1=lr.score(x_train,y_train)\n",
    "score1=np.round(score1,2)\n",
    "print(\"training score: \",score1)"
   ]
  },
  {
   "cell_type": "code",
   "execution_count": 61,
   "id": "3e65fe68-a4a2-4bcc-be1c-8df3dd9d0d07",
   "metadata": {},
   "outputs": [
    {
     "name": "stdout",
     "output_type": "stream",
     "text": [
      "testing score:  0.99\n"
     ]
    }
   ],
   "source": [
    "#find the testing score\n",
    "#use inbuilt method score() of LinearRegression class\n",
    "score2=lr.score(x_test,y_test)\n",
    "score2=round(score2,2)\n",
    "print(\"testing score: \",score2)"
   ]
  },
  {
   "cell_type": "code",
   "execution_count": 62,
   "id": "0c549529-15db-4eed-a46e-d7707ce7a211",
   "metadata": {},
   "outputs": [],
   "source": [
    "#here model is underfit because training score < testing score"
   ]
  },
  {
   "cell_type": "markdown",
   "id": "e2f22858-5f21-4e67-942e-29dace8a2b55",
   "metadata": {},
   "source": [
    "**Clearly : Model is perfect on degree input=3**\n",
    "\n",
    "**Here model is no underfit or no overfit**\n",
    "\n",
    "**Here training score = testing score**\n",
    "\n",
    "**Perfect model : training score>=testing score**\n"
   ]
  },
  {
   "cell_type": "markdown",
   "id": "93fc3d12-9560-4a6a-88a9-b0e1e30b3390",
   "metadata": {},
   "source": [
    "**CONCLUSION**\n",
    "\n",
    "**The Linear Regression model that uses the predictors TV and Radio performs the best out of all the models tried These results mean that advertising on TV and Radio contribute the most in Sales, and Newspaper advertisements have little effect in Sales Based on these findings, it is recommended that the marketer or the business owner shall allocate more budget on TV and Radio advertisements rather than Newspaper**"
   ]
  },
  {
   "cell_type": "code",
   "execution_count": null,
   "id": "b5ecf241-154a-466c-b7e5-a64fee031a90",
   "metadata": {},
   "outputs": [],
   "source": []
  }
 ],
 "metadata": {
  "kernelspec": {
   "display_name": "Python 3 (ipykernel)",
   "language": "python",
   "name": "python3"
  },
  "language_info": {
   "codemirror_mode": {
    "name": "ipython",
    "version": 3
   },
   "file_extension": ".py",
   "mimetype": "text/x-python",
   "name": "python",
   "nbconvert_exporter": "python",
   "pygments_lexer": "ipython3",
   "version": "3.11.7"
  }
 },
 "nbformat": 4,
 "nbformat_minor": 5
}
